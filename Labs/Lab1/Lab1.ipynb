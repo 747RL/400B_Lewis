{
 "cells": [
  {
   "cell_type": "markdown",
   "metadata": {},
   "source": [
    "# In Class Lab 1\n",
    "\n",
    "## Part A:  The Local Standard of Rest\n",
    "Proper motion of Sgr A* from Reid & Brunthaler 2004\n",
    "$\\mu = 6.379$ mas/yr \n",
    "\n",
    "Peculiar motion of the sun, $v_\\odot$ = 12.24 km/s  (Schonrich 2010)\n",
    "\n",
    "\n",
    "$v_{tan} = 4.74 \\frac{\\mu}{\\rm mas/yr} \\frac{R_o}{\\rm kpc} = V_{LSR} + v_\\odot$\n",
    "\n",
    "\n",
    "### a)\n",
    "\n",
    "Create a function called VLSR to compute the local standard of res (V$_{LSR}$).\n",
    "\n",
    "The function should take as input: the solar radius (R$_o$), the proper motion (mu)\n",
    "and the peculiar motion of the sun in the $v_\\odot$ direction.\n",
    "\n",
    "Compute V$_{LSR}$ using three different values R$_o$: \n",
    "1. Water Maser Distance for the Sun :  R$_o$ = 8.34 kpc   (Reid 2014 ApJ 783) \n",
    "2. GRAVITY Collaboration Distance for the Sun:  R$_o$ = 8.178 kpc   (Abuter+2019 A&A 625)\n",
    "3. Value for Distance to Sun listed in Sparke & Gallagher : R$_o$ = 7.9 kpc \n"
   ]
  },
  {
   "cell_type": "code",
   "execution_count": 2,
   "metadata": {},
   "outputs": [],
   "source": [
    "import numpy as np"
   ]
  },
  {
   "cell_type": "code",
   "execution_count": 3,
   "metadata": {},
   "outputs": [],
   "source": [
    "# Function that computes the Local Standard of Rest velocity\n",
    "# vtan = 4.74*mu*R0 = vLSR + vSun\n",
    "# The function will use the below equation\n",
    "# vLSR = 4.74*mu*r0 - vSun\n",
    "\n",
    "def VLSR(R0, mu=6.379, vSun=12.24):\n",
    "    # Inputs:\n",
    "    # R0 is the distance from the sun to the galactic center (kpc)\n",
    "    # mu is the proper motion of Sag A* (mas/yr) : Default is from Reid & Brunthaler 2004\n",
    "    # vSun is the peculiar motion of the sun in the v direction (km/s) : Default is from Schonrich+ 2010\n",
    "    # Returns:\n",
    "    # vLSR is the local standard of rest (km/s)\n",
    "    \n",
    "    return 4.74*mu*R0 - vSun"
   ]
  },
  {
   "cell_type": "code",
   "execution_count": 4,
   "metadata": {},
   "outputs": [],
   "source": [
    "R0Reid = 8.34 # Distance to the Galactic center from Reid et al. 2014 (kpc)\n",
    "R0Gravity = 8.178 # Distance to the Galactic center from Gravity Collaboration from Abuter+ 2019 (kpc)\n",
    "R0SG = 7.9 # Distance to the Galactic center from the textbook by Spark & Gallagher (kpc)"
   ]
  },
  {
   "cell_type": "code",
   "execution_count": 5,
   "metadata": {},
   "outputs": [
    {
     "name": "stdout",
     "output_type": "stream",
     "text": [
      "239.9320764\n"
     ]
    }
   ],
   "source": [
    "# Compute vLSR using Reid 2014 value for R0\n",
    "vLSR_Reid = VLSR(R0Reid)\n",
    "print(vLSR_Reid)"
   ]
  },
  {
   "cell_type": "code",
   "execution_count": 6,
   "metadata": {},
   "outputs": [
    {
     "name": "stdout",
     "output_type": "stream",
     "text": [
      "235.03376988000002\n"
     ]
    }
   ],
   "source": [
    "# Compute vLSR using Gravity 2019 value for R0\n",
    "vLSR_Gravity = VLSR(R0Gravity)\n",
    "print(vLSR_Gravity)"
   ]
  },
  {
   "cell_type": "code",
   "execution_count": 7,
   "metadata": {},
   "outputs": [
    {
     "name": "stdout",
     "output_type": "stream",
     "text": [
      "226.628034\n"
     ]
    }
   ],
   "source": [
    "# Compute vLSR using Sparke & Gallagher value for R0\n",
    "vLSR_SG = VLSR(R0SG)\n",
    "print(vLSR_SG)"
   ]
  },
  {
   "cell_type": "markdown",
   "metadata": {},
   "source": [
    "### b)\n",
    "\n",
    "compute the orbital period of the sun using R$_o$ from the GRAVITY Collaboration (assume circular orbit)\n",
    "\n",
    "Note that 1 km/s $\\sim$ 1kpc/Gyr"
   ]
  },
  {
   "cell_type": "code",
   "execution_count": 9,
   "metadata": {},
   "outputs": [
    {
     "name": "stdout",
     "output_type": "stream",
     "text": [
      "0.20780161788713317\n"
     ]
    }
   ],
   "source": [
    "# Compute the orbital period of the sun, using R0 from Gravity collaboration\n",
    "# T = 2πR/vTan (Gyr)\n",
    "# vTan = vLSR + vSun\n",
    "vTan = vLSR_Gravity + 12.24\n",
    "T_Gravity = 2*np.pi*R0Gravity/vTan\n",
    "print(T_Gravity)"
   ]
  },
  {
   "cell_type": "markdown",
   "metadata": {},
   "source": [
    "### c)\n",
    "\n",
    "Compute the number of rotations about the GC over the age of the universe (13.8 Gyr)"
   ]
  },
  {
   "cell_type": "code",
   "execution_count": 10,
   "metadata": {},
   "outputs": [
    {
     "name": "stdout",
     "output_type": "stream",
     "text": [
      "66.40949257428511\n"
     ]
    }
   ],
   "source": [
    "# Determine the number of rotations about the Galactic center\n",
    "# Age of the universe / Orbital period\n",
    "print(13.8/T_Gravity)"
   ]
  },
  {
   "cell_type": "markdown",
   "metadata": {},
   "source": [
    "## Part B  Dark Matter Density Profiles\n",
    "\n",
    "### a)\n",
    "Try out Fitting Rotation Curves \n",
    "[here](http://wittman.physics.ucdavis.edu/Animations/RotationCurve/GalacticRotation.html)\n",
    "\n",
    "\n",
    "### b)\n",
    "\n",
    "In the Isothermal Sphere model, what is the mass enclosed within the solar radius (R$_o$) in units of $10^{10}$ M$_\\odot$? \n",
    "\n",
    "Recall that for the Isothermal sphere :\n",
    "$\\rho(r) = \\frac{V_{LSR}^2}{4\\pi G r^2}$\n",
    "\n",
    "Where $G$ = 4.4988e-6 kpc$^3$/Gyr$^2$/M$_\\odot$\n",
    "\n",
    "What about at 260 kpc (in units of 10$^{12}$ M$_\\odot$) ? "
   ]
  },
  {
   "cell_type": "code",
   "execution_count": 11,
   "metadata": {},
   "outputs": [],
   "source": [
    "# Gravitational Constant:\n",
    "G = 4.4988e-6 # (kpc^3/Gyr^2/Msun)"
   ]
  },
  {
   "cell_type": "code",
   "execution_count": 15,
   "metadata": {},
   "outputs": [],
   "source": [
    "# Compute the mass enclosed within a given radius assuming an Isothermal Sphere Model\n",
    "# Density profile ρ = vLSR^2/(4*π*G*R^2)\n",
    "# Mass = Integrate ρ dV\n",
    "#        Integrate ρ 4*π*r^2*dr\n",
    "#        Integrate vLSR^2 / (4*π*G*R^2) * 4*π*r^2 dr\n",
    "#        Integrate vLSR^2/G dr\n",
    "#        vLSR^2/G * r\n",
    "\n",
    "def MassIso(r, vLSR=vLSR_Gravity):\n",
    "    # Inputs:\n",
    "    # vLSR is the local standard of rest (km/s) : Default vLSR arising from Gravity Collaboration\n",
    "    # r is the distance from the Galactic Center (kpc)\n",
    "    # Returns:\n",
    "    # Mass enclosed in Msun\n",
    "    return vLSR**2/G*r"
   ]
  },
  {
   "cell_type": "code",
   "execution_count": 16,
   "metadata": {},
   "outputs": [
    {
     "name": "stdout",
     "output_type": "stream",
     "text": [
      "10.04178579317132\n"
     ]
    }
   ],
   "source": [
    "# Computes the mass enclosed within ρ\n",
    "MIsoSolar = MassIso(R0Gravity)\n",
    "print(MIsoSolar/1e10) # Units of 1e10 Msun"
   ]
  },
  {
   "cell_type": "code",
   "execution_count": 17,
   "metadata": {},
   "outputs": [
    {
     "name": "stdout",
     "output_type": "stream",
     "text": [
      "3.1925462291813926\n"
     ]
    }
   ],
   "source": [
    "# Computes the mass enclosed within 260 kpc\n",
    "MIso260 = MassIso(260)\n",
    "print(MIso260/1e12) # Units of 1e12 Msun"
   ]
  },
  {
   "cell_type": "markdown",
   "metadata": {},
   "source": [
    "## c) \n",
    "\n",
    "The Leo I satellite is one of the fastest moving satellite galaxies we know. \n",
    "\n",
    "\n",
    "It is moving with 3D velocity of magnitude: Vtot = 196 km/s at a distance of 260 kpc (Sohn 2013 ApJ 768)\n",
    "\n",
    "If we assume that Leo I is moving at the escape speed:\n",
    "\n",
    "$v_{esc}^2 = 2|\\Phi| = 2 \\int G \\frac{\\rho(r)}{r}dV $ \n",
    "\n",
    "and assuming the Milky Way is well modeled by a Hernquist Sphere with a scale radius of $a$= 30 kpc, what is the minimum mass of the Milky Way (in units of $10^{12}$ M$_\\odot$) ?  \n",
    "\n",
    "How does this compare to estimates of the mass assuming the Isothermal Sphere model at 260 kpc (from your answer above)"
   ]
  },
  {
   "cell_type": "code",
   "execution_count": null,
   "metadata": {},
   "outputs": [],
   "source": [
    "# Potential for a Hernquist Sphere\n",
    "# φ = - G*M/(r+a)\n",
    "\n",
    "# Using the Hernquist Potential, the equations for the escape speed becomes\n",
    "# vEsc^2 = 2*G*M/(r+a)\n",
    "\n",
    "# Rearranging the escape speed equation for M\n",
    "# M = vEsc^2/2/G*(r+a)\n",
    "#   = 196^2/2/G*(260+30)\n",
    "\n",
    "# Function the will determine the total halo mass needed to set a given escape speed at a given distance,\n",
    "# assuming a Hernquist profile for the dark matter halo\n",
    "\n",
    "def MassFromVesc(vEsc, a, r):\n",
    "    # Inputs:\n",
    "    # vesc is the escape speed in km/s (or the speed of the satellite)\n",
    "    # r is the distance from the Galactic Center (kpc)\n",
    "    # a is the Hernquist scale length (kpc)\n",
    "    # Return:\n",
    "    # Total mass in Msun\n",
    "    return vEsc**2/s/G*(r+a)"
   ]
  },
  {
   "cell_type": "code",
   "execution_count": null,
   "metadata": {},
   "outputs": [],
   "source": [
    "# Calculates mass needed to keep Leo I bound, assuming a Hernquist profile\n",
    "MLeoI = MassFromVesc(196, 30, 260)\n",
    "print(MLeoI/1e12) # Units of 1e12 Msun"
   ]
  },
  {
   "cell_type": "code",
   "execution_count": null,
   "metadata": {},
   "outputs": [],
   "source": [
    "MIso260/MLeoI"
   ]
  }
 ],
 "metadata": {
  "kernelspec": {
   "display_name": "Python 3",
   "language": "python",
   "name": "python3"
  },
  "language_info": {
   "codemirror_mode": {
    "name": "ipython",
    "version": 3
   },
   "file_extension": ".py",
   "mimetype": "text/x-python",
   "name": "python",
   "nbconvert_exporter": "python",
   "pygments_lexer": "ipython3",
   "version": "3.6.8"
  }
 },
 "nbformat": 4,
 "nbformat_minor": 2
}
