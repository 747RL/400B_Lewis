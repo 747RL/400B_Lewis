{
 "cells": [
  {
   "cell_type": "code",
   "execution_count": null,
   "metadata": {},
   "outputs": [],
   "source": [
    "# Function that gives the total mass of any desired galaxy component\n",
    "def ComponentMass(filename, ptype):\n",
    "    # Input:\n",
    "    # filename - the name of the data file\n",
    "    # ptype - the particle type (1-Halo, 2-Disk, 3-Bulge)\n",
    "    # Output:\n",
    "    # Mtot - the total mass of the desired galaxy component in units of 10^12 Msun"
   ]
  }
 ],
 "metadata": {
  "kernelspec": {
   "display_name": "Python 3",
   "language": "python",
   "name": "python3"
  },
  "language_info": {
   "codemirror_mode": {
    "name": "ipython",
    "version": 3
   },
   "file_extension": ".py",
   "mimetype": "text/x-python",
   "name": "python",
   "nbconvert_exporter": "python",
   "pygments_lexer": "ipython3",
   "version": "3.7.4"
  }
 },
 "nbformat": 4,
 "nbformat_minor": 2
}
