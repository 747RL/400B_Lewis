{
 "cells": [
  {
   "cell_type": "code",
   "execution_count": null,
   "metadata": {},
   "outputs": [],
   "source": [
    "import numpy as np\n",
    "import pandas as pd\n",
    "import astropy.units as u\n",
    "import matplotlib.pyplot as plt\n",
    "from ReadFile import Read\n",
    "from matplotlib.backends.backend_pdf import PdfPages\n",
    "from astropy.table import Table, Column"
   ]
  },
  {
   "cell_type": "code",
   "execution_count": null,
   "metadata": {},
   "outputs": [],
   "source": [
    "# Function that gives the total mass of a specific type of any desired galaxy\n",
    "# Data provided from the files: MW_000.txt, M31_000.txt, M33_000.txt\n",
    "def ComponentMass(filename, ptype):\n",
    "    #Input:\n",
    "        # filename - the name of the data file\n",
    "        # ptype - the particle type (1-Halo, 2-Disk, 3-Bulge)\n",
    "    # Output:\n",
    "        # Mtot - the total mass of the desired galaxy component (10^12 Msun)\n",
    "        \n",
    "    time, pnum, data = Read(filename) # ReadFile.py function that returns the time, number of particles, and data from a given file\n",
    "    index = np.where(data['type' == ptype]) # Filters the data by particle type\n",
    "    Mnew = data['m'][index] # \n",
    "    Mtot = np.around(np.sum(Mnew), 3)\n",
    "    retun Mtot"
   ]
  },
  {
   "cell_type": "code",
   "execution_count": null,
   "metadata": {},
   "outputs": [],
   "source": [
    "# Calculates the masses of the Milky Way galaxy components and the baryon fraction\n",
    "MWhalo = ComponentMass('MW_000.txt', 1) # The Milky Way dark matter mass\n",
    "MWdisk = ComponentMass('MW_000.txt', 2) # The Milky Way disk mass\n",
    "MWbulge = ComponentMass('MW_000.txt', 3) # The Milky Way bulge mass\n",
    "MWstellar = np.around(MWdisk + MWbluge, 3) # The Milky Way stellar mass\n",
    "MWtotal = np.around(MWstellar + MWbulge, 3) # The Milky Way total mass\n",
    "MWfbar = np.around(MWstellar/MWtotal, 3) # The Milky Way baryon fraction"
   ]
  },
  {
   "cell_type": "code",
   "execution_count": null,
   "metadata": {},
   "outputs": [],
   "source": [
    "# Calculates the masses of the M31 galaxy components and the baryon fraction\n",
    "M31halo = ComponentMass('M31_000.txt', 1) # The M31 dark matter mass\n",
    "M31disk = ComponentMass('M31_000.txt', 2) # The M31 disk mass\n",
    "M31bulge = ComponentMass('M31_000.txt', 3) # The M31 bulge mass\n",
    "M31stellar = np.around(M31disk + M31bluge, 3) # The M31 stellar mass\n",
    "M31total = np.around(M31stellar + M31bulge, 3) # The M31 total mass\n",
    "M31fbar = np.around(M31stellar/M31total, 3) # The M31 baryon fraction"
   ]
  },
  {
   "cell_type": "code",
   "execution_count": null,
   "metadata": {},
   "outputs": [],
   "source": [
    "# Calculates the masses of the M33 galaxy components and the baryon fraction\n",
    "M33halo = ComponentMass('M33_000.txt', 1) # The M31 dark matter mass\n",
    "M33disk = ComponentMass('M33_000.txt', 2) # The M33 disk mass\n",
    "M33bulge = 0 # M33 does not posess a bulge, so the bulge mass is 0\n",
    "M33stellar = np.around(M33disk + M33bluge, 3) # The M31 stellar mass\n",
    "M33total = np.around(M33stellar + M33bulge, 3) # The M33 total mass\n",
    "M33fbar = np.around(M33stellar/M33total, 3) # The M33 baryon fraction"
   ]
  },
  {
   "cell_type": "code",
   "execution_count": null,
   "metadata": {},
   "outputs": [],
   "source": [
    "# Calculates the masses of the Local Group and the baryon fraction\n",
    "LGtotal = MWtotal + M31total + M33total # The Local Group total mass\n",
    "LGstellar = MWstellar + M31stellar + M33stellar # The Local Group stellar mass\n",
    "LGfbar = np.around(LGstellar/LGtotal, 3) # The Local Group baryon fraction"
   ]
  },
  {
   "cell_type": "code",
   "execution_count": null,
   "metadata": {},
   "outputs": [],
   "source": [
    "# Table maker\n",
    "Halo = np.array([MWhalo, M31halo, M33halo, 0])\n",
    "Disk = np.array([MWdisk, M31disk, M33disk, 0])\n",
    "Bulge = np.array([MWbulge, M31bulge, M33bulge, 0])\n",
    "Total = np.array([MWtotal, M31total, M33total, LGtotal])\n",
    "Fbar = np.array([MWfbar, M31fbar, M33fbar, LGfbar])\n",
    "    \n",
    "GalaxyName = ['Milky Way', 'M31', 'M33', 'Local Group']\n",
    "ColName = ('Galaxy Name', 'Halo Mass (10^12 Msun)', 'Disk Mass (10^12 Msun)', 'Bulge Mass (10^12 Msun)', \n",
    "                'Total Mass (10^12 Msun)', 'Baryon Fraction')\n",
    "Table = [GalaxyName, Halo, Disk, Bulge, Total, Fbar]"
   ]
  },
  {
   "cell_type": "code",
   "execution_count": null,
   "metadata": {},
   "outputs": [],
   "source": [
    "table = Table(Table), names = ColName\n",
    "    \n",
    "print(table)"
   ]
  },
  {
   "cell_type": "code",
   "execution_count": null,
   "metadata": {},
   "outputs": [],
   "source": [
    "fig, ax = plt.subplots()\n",
    "fig.patch.set_visible(False)\n",
    "ax.axis('off')\n",
    "ax.axis('tight')\n",
    "\n",
    "DF = pd.DataFrame(Table, columns=ColName)\n",
    "ax.table(cellText=df.values, colLabels=df.columns, loc='center')\n",
    "\n",
    "fig.tight_layout()\n",
    "\n",
    "plt.show()"
   ]
  },
  {
   "cell_type": "code",
   "execution_count": null,
   "metadata": {},
   "outputs": [],
   "source": [
    "# Ratios to answer questions on Homework3\n",
    "MWvsM31total = MWtotal/M31total # Ratio of total masses for Milky Way vs M31\n",
    "MWvsM31stellar = MWstellar/M31stellar # Ratio of stellar masses for Milky Way vs M31\n",
    "MWvsM31halo = MWhalo/M31halo # Ratio of halo masses for Milky Way vs M31\n",
    "\n",
    "print(MWvsM31total) # Question 1\n",
    "print(MWvsM31stellar) # Question 2\n",
    "print(MWvsM31halo) # Question 3\n",
    "print(MWfbar, M31fbar, M33fbar) # Question 4"
   ]
  }
 ],
 "metadata": {
  "kernelspec": {
   "display_name": "Python 3",
   "language": "python",
   "name": "python3"
  },
  "language_info": {
   "codemirror_mode": {
    "name": "ipython",
    "version": 3
   },
   "file_extension": ".py",
   "mimetype": "text/x-python",
   "name": "python",
   "nbconvert_exporter": "python",
   "pygments_lexer": "ipython3",
   "version": "3.6.8"
  }
 },
 "nbformat": 4,
 "nbformat_minor": 2
}
