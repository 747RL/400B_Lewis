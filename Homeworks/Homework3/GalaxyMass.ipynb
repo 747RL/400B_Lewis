{
 "cells": [
  {
   "cell_type": "code",
   "execution_count": 10,
   "metadata": {},
   "outputs": [],
   "source": [
    "# Program will produce error when attempting to find filename. \n",
    "# In an effort to get past an error I copied ReadFile so that I would not have to import Read from ReadFile"
   ]
  },
  {
   "cell_type": "code",
   "execution_count": null,
   "metadata": {},
   "outputs": [],
   "source": [
    "# Load Modules\n",
    "import numpy as np\n",
    "import astropy.units as u"
   ]
  },
  {
   "cell_type": "code",
   "execution_count": 11,
   "metadata": {},
   "outputs": [],
   "source": [
    "# Define a function that will read in a file\n",
    "# USAGE :   time, total, data = Read(\"filename\")\n",
    "def Read(filename):\n",
    "# Input:  filename, e.g. \"MW_000.txt\"\n",
    "# Returns:  time (in Myr), total number of particles \n",
    "#           and an array with data\n",
    "    \n",
    "    # open the file \n",
    "    file = open(filename,'r')\n",
    "    \n",
    "    #read header info line by line (line will be a string)\n",
    "    # read first two lines FIRST and store as variable\n",
    "    \n",
    "    # read and store time\n",
    "    line1 = file.readline()\n",
    "    label, value = line1.split()\n",
    "    time = float(value)*u.Myr\n",
    "\n",
    "    # read and store total number of particles\n",
    "    line2 = file.readline()\n",
    "    label, value = line2.split()\n",
    "    total = float(value)\n",
    "    \n",
    "    # close file\n",
    "    file.close()\n",
    "\n",
    "    # read the remainder of the file, \n",
    "    # \"dtype=None\" specifies data type. None is default float\n",
    "    # default delimiter is line is split using white spaces\n",
    "    # \"skip_header=3\"  skipping the first 3 lines \n",
    "    # the flag \"names=True\" creates arrays to store the date\n",
    "    #       with the column headers given in line 4 like \"m\", \"x\"\n",
    "    \n",
    "    data = np.genfromtxt(filename,dtype=None,names=True,skip_header=3)\n",
    "    \n",
    "    # Note, another option is loadtxt, skipping the first 3 rows.  \n",
    "    # data = np.loadtxt(filename,skiprows=3)\n",
    "    # But this loses the information in the headers\n",
    "    \n",
    "    # this will return the time of the snapshot, \n",
    "    #total number of particles \n",
    "    #and an array that stores the remainder of the data. \n",
    "    return time, total, data"
   ]
  },
  {
   "cell_type": "code",
   "execution_count": 12,
   "metadata": {},
   "outputs": [],
   "source": [
    "# Load modules\n",
    "import numpy as np\n",
    "import pandas as pd\n",
    "import astropy.units as u\n",
    "import matplotlib.pyplot as plt\n",
    "from matplotlib.backends.backend_pdf import PdfPages"
   ]
  },
  {
   "cell_type": "code",
   "execution_count": 13,
   "metadata": {},
   "outputs": [],
   "source": [
    "# Function that gives the total mass of a specific type of any desired galaxy\n",
    "# Data provided from the files: MW_000.txt, M31_000.txt, M33_000.txt\n",
    "def ComponentMass(filename, ptype):\n",
    "    #Input:\n",
    "        # filename - the name of the data file\n",
    "        # ptype - the particle type (1-Halo, 2-Disk, 3-Bulge)\n",
    "    # Output:\n",
    "        # Mtot - the total mass of the desired galaxy component (10^12 Msun)\n",
    "        \n",
    "    time, pnum, data = Read(filename) # Stores the file below the 3rd line as data\n",
    "    index = np.where(data['type' == ptype]) # Filters the data by particle type\n",
    "    Mass = data['m'][index] # Creates a new lists of masses\n",
    "    Mtot = np.around(np.sum(Mass)/100, 3) # Sums the masses of a certain type\n",
    "    return Mtot"
   ]
  },
  {
   "cell_type": "code",
   "execution_count": 14,
   "metadata": {},
   "outputs": [
    {
     "ename": "FileNotFoundError",
     "evalue": "[Errno 2] No such file or directory: 'MW_000.txt'",
     "output_type": "error",
     "traceback": [
      "\u001b[0;31m---------------------------------------------------------------------------\u001b[0m",
      "\u001b[0;31mFileNotFoundError\u001b[0m                         Traceback (most recent call last)",
      "\u001b[0;32m<ipython-input-14-e16d2485c7cc>\u001b[0m in \u001b[0;36m<module>\u001b[0;34m()\u001b[0m\n\u001b[1;32m      1\u001b[0m \u001b[0;31m# Calculates the masses of the Milky Way galaxy components and the baryon fraction\u001b[0m\u001b[0;34m\u001b[0m\u001b[0;34m\u001b[0m\u001b[0;34m\u001b[0m\u001b[0m\n\u001b[0;32m----> 2\u001b[0;31m \u001b[0mMWhalo\u001b[0m \u001b[0;34m=\u001b[0m \u001b[0mComponentMass\u001b[0m\u001b[0;34m(\u001b[0m\u001b[0;34m'MW_000.txt'\u001b[0m\u001b[0;34m,\u001b[0m \u001b[0;36m1\u001b[0m\u001b[0;34m)\u001b[0m \u001b[0;31m# The Milky Way dark matter mass\u001b[0m\u001b[0;34m\u001b[0m\u001b[0;34m\u001b[0m\u001b[0m\n\u001b[0m\u001b[1;32m      3\u001b[0m \u001b[0mMWdisk\u001b[0m \u001b[0;34m=\u001b[0m \u001b[0mComponentMass\u001b[0m\u001b[0;34m(\u001b[0m\u001b[0;34m'MW_000.txt'\u001b[0m\u001b[0;34m,\u001b[0m \u001b[0;36m2\u001b[0m\u001b[0;34m)\u001b[0m \u001b[0;31m# The Milky Way disk mass\u001b[0m\u001b[0;34m\u001b[0m\u001b[0;34m\u001b[0m\u001b[0m\n\u001b[1;32m      4\u001b[0m \u001b[0mMWbulge\u001b[0m \u001b[0;34m=\u001b[0m \u001b[0mComponentMass\u001b[0m\u001b[0;34m(\u001b[0m\u001b[0;34m'MW_000.txt'\u001b[0m\u001b[0;34m,\u001b[0m \u001b[0;36m3\u001b[0m\u001b[0;34m)\u001b[0m \u001b[0;31m# The Milky Way bulge mass\u001b[0m\u001b[0;34m\u001b[0m\u001b[0;34m\u001b[0m\u001b[0m\n\u001b[1;32m      5\u001b[0m \u001b[0mMWstellar\u001b[0m \u001b[0;34m=\u001b[0m \u001b[0mnp\u001b[0m\u001b[0;34m.\u001b[0m\u001b[0maround\u001b[0m\u001b[0;34m(\u001b[0m\u001b[0mMWdisk\u001b[0m \u001b[0;34m+\u001b[0m \u001b[0mMWbluge\u001b[0m\u001b[0;34m,\u001b[0m \u001b[0;36m3\u001b[0m\u001b[0;34m)\u001b[0m \u001b[0;31m# The Milky Way stellar mass\u001b[0m\u001b[0;34m\u001b[0m\u001b[0;34m\u001b[0m\u001b[0m\n",
      "\u001b[0;32m<ipython-input-13-dfc13d791018>\u001b[0m in \u001b[0;36mComponentMass\u001b[0;34m(filename, ptype)\u001b[0m\n\u001b[1;32m      8\u001b[0m         \u001b[0;31m# Mtot - the total mass of the desired galaxy component (10^12 Msun)\u001b[0m\u001b[0;34m\u001b[0m\u001b[0;34m\u001b[0m\u001b[0;34m\u001b[0m\u001b[0m\n\u001b[1;32m      9\u001b[0m \u001b[0;34m\u001b[0m\u001b[0m\n\u001b[0;32m---> 10\u001b[0;31m     \u001b[0mtime\u001b[0m\u001b[0;34m,\u001b[0m \u001b[0mpnum\u001b[0m\u001b[0;34m,\u001b[0m \u001b[0mdata\u001b[0m \u001b[0;34m=\u001b[0m \u001b[0mRead\u001b[0m\u001b[0;34m(\u001b[0m\u001b[0mfilename\u001b[0m\u001b[0;34m)\u001b[0m \u001b[0;31m# Stores the file below the 3rd line as data\u001b[0m\u001b[0;34m\u001b[0m\u001b[0;34m\u001b[0m\u001b[0m\n\u001b[0m\u001b[1;32m     11\u001b[0m     \u001b[0mindex\u001b[0m \u001b[0;34m=\u001b[0m \u001b[0mnp\u001b[0m\u001b[0;34m.\u001b[0m\u001b[0mwhere\u001b[0m\u001b[0;34m(\u001b[0m\u001b[0mdata\u001b[0m\u001b[0;34m[\u001b[0m\u001b[0;34m'type'\u001b[0m \u001b[0;34m==\u001b[0m \u001b[0mptype\u001b[0m\u001b[0;34m]\u001b[0m\u001b[0;34m)\u001b[0m \u001b[0;31m# Filters the data by particle type\u001b[0m\u001b[0;34m\u001b[0m\u001b[0;34m\u001b[0m\u001b[0m\n\u001b[1;32m     12\u001b[0m     \u001b[0mMass\u001b[0m \u001b[0;34m=\u001b[0m \u001b[0mdata\u001b[0m\u001b[0;34m[\u001b[0m\u001b[0;34m'm'\u001b[0m\u001b[0;34m]\u001b[0m\u001b[0;34m[\u001b[0m\u001b[0mindex\u001b[0m\u001b[0;34m]\u001b[0m \u001b[0;31m# Creates a new lists of masses\u001b[0m\u001b[0;34m\u001b[0m\u001b[0;34m\u001b[0m\u001b[0m\n",
      "\u001b[0;32m<ipython-input-11-d87497da9815>\u001b[0m in \u001b[0;36mRead\u001b[0;34m(filename)\u001b[0m\n\u001b[1;32m      7\u001b[0m \u001b[0;34m\u001b[0m\u001b[0m\n\u001b[1;32m      8\u001b[0m     \u001b[0;31m# open the file\u001b[0m\u001b[0;34m\u001b[0m\u001b[0;34m\u001b[0m\u001b[0;34m\u001b[0m\u001b[0m\n\u001b[0;32m----> 9\u001b[0;31m     \u001b[0mfile\u001b[0m \u001b[0;34m=\u001b[0m \u001b[0mopen\u001b[0m\u001b[0;34m(\u001b[0m\u001b[0mfilename\u001b[0m\u001b[0;34m,\u001b[0m\u001b[0;34m'r'\u001b[0m\u001b[0;34m)\u001b[0m\u001b[0;34m\u001b[0m\u001b[0;34m\u001b[0m\u001b[0m\n\u001b[0m\u001b[1;32m     10\u001b[0m \u001b[0;34m\u001b[0m\u001b[0m\n\u001b[1;32m     11\u001b[0m     \u001b[0;31m#read header info line by line (line will be a string)\u001b[0m\u001b[0;34m\u001b[0m\u001b[0;34m\u001b[0m\u001b[0;34m\u001b[0m\u001b[0m\n",
      "\u001b[0;31mFileNotFoundError\u001b[0m: [Errno 2] No such file or directory: 'MW_000.txt'"
     ]
    }
   ],
   "source": [
    "# Calculates the masses of the Milky Way galaxy components and the baryon fraction\n",
    "MWhalo = ComponentMass('MW_000.txt', 1) # The Milky Way dark matter mass\n",
    "MWdisk = ComponentMass('MW_000.txt', 2) # The Milky Way disk mass\n",
    "MWbulge = ComponentMass('MW_000.txt', 3) # The Milky Way bulge mass\n",
    "MWstellar = np.around(MWdisk + MWbluge, 3) # The Milky Way stellar mass\n",
    "MWtotal = np.around(MWstellar + MWbulge, 3) # The Milky Way total mass\n",
    "MWfbar = np.around(MWstellar/MWtotal, 3) # The Milky Way baryon fraction"
   ]
  },
  {
   "cell_type": "code",
   "execution_count": 7,
   "metadata": {},
   "outputs": [
    {
     "ename": "OSError",
     "evalue": "400B_Lewis/M31_000.txt not found.",
     "output_type": "error",
     "traceback": [
      "\u001b[0;31m---------------------------------------------------------------------------\u001b[0m",
      "\u001b[0;31mOSError\u001b[0m                                   Traceback (most recent call last)",
      "\u001b[0;32m<ipython-input-7-8253e84bffda>\u001b[0m in \u001b[0;36m<module>\u001b[0;34m\u001b[0m\n\u001b[1;32m      1\u001b[0m \u001b[0;31m# Calculates the masses of the M31 galaxy components and the baryon fraction\u001b[0m\u001b[0;34m\u001b[0m\u001b[0;34m\u001b[0m\u001b[0;34m\u001b[0m\u001b[0m\n\u001b[0;32m----> 2\u001b[0;31m \u001b[0mM31halo\u001b[0m \u001b[0;34m=\u001b[0m \u001b[0mComponentMass\u001b[0m\u001b[0;34m(\u001b[0m\u001b[0;34m'400B_Lewis/M31_000.txt'\u001b[0m\u001b[0;34m,\u001b[0m \u001b[0;36m1\u001b[0m\u001b[0;34m)\u001b[0m \u001b[0;31m# The M31 dark matter mass\u001b[0m\u001b[0;34m\u001b[0m\u001b[0;34m\u001b[0m\u001b[0m\n\u001b[0m\u001b[1;32m      3\u001b[0m \u001b[0mM31disk\u001b[0m \u001b[0;34m=\u001b[0m \u001b[0mComponentMass\u001b[0m\u001b[0;34m(\u001b[0m\u001b[0;34m'M31_000.txt'\u001b[0m\u001b[0;34m,\u001b[0m \u001b[0;36m2\u001b[0m\u001b[0;34m)\u001b[0m \u001b[0;31m# The M31 disk mass\u001b[0m\u001b[0;34m\u001b[0m\u001b[0;34m\u001b[0m\u001b[0m\n\u001b[1;32m      4\u001b[0m \u001b[0mM31bulge\u001b[0m \u001b[0;34m=\u001b[0m \u001b[0mComponentMass\u001b[0m\u001b[0;34m(\u001b[0m\u001b[0;34m'M31_000.txt'\u001b[0m\u001b[0;34m,\u001b[0m \u001b[0;36m3\u001b[0m\u001b[0;34m)\u001b[0m \u001b[0;31m# The M31 bulge mass\u001b[0m\u001b[0;34m\u001b[0m\u001b[0;34m\u001b[0m\u001b[0m\n\u001b[1;32m      5\u001b[0m \u001b[0mM31stellar\u001b[0m \u001b[0;34m=\u001b[0m \u001b[0mnp\u001b[0m\u001b[0;34m.\u001b[0m\u001b[0maround\u001b[0m\u001b[0;34m(\u001b[0m\u001b[0mM31disk\u001b[0m \u001b[0;34m+\u001b[0m \u001b[0mM31bluge\u001b[0m\u001b[0;34m,\u001b[0m \u001b[0;36m3\u001b[0m\u001b[0;34m)\u001b[0m \u001b[0;31m# The M31 stellar mass\u001b[0m\u001b[0;34m\u001b[0m\u001b[0;34m\u001b[0m\u001b[0m\n",
      "\u001b[0;32m<ipython-input-4-0760898e5834>\u001b[0m in \u001b[0;36mComponentMass\u001b[0;34m(filename, ptype)\u001b[0m\n\u001b[1;32m      8\u001b[0m         \u001b[0;31m# Mtot - the total mass of the desired galaxy component (10^12 Msun)\u001b[0m\u001b[0;34m\u001b[0m\u001b[0;34m\u001b[0m\u001b[0;34m\u001b[0m\u001b[0m\n\u001b[1;32m      9\u001b[0m \u001b[0;34m\u001b[0m\u001b[0m\n\u001b[0;32m---> 10\u001b[0;31m     \u001b[0mdata\u001b[0m \u001b[0;34m=\u001b[0m \u001b[0mnp\u001b[0m\u001b[0;34m.\u001b[0m\u001b[0mgenfromtxt\u001b[0m\u001b[0;34m(\u001b[0m\u001b[0mfilename\u001b[0m\u001b[0;34m,\u001b[0m \u001b[0mdtype\u001b[0m\u001b[0;34m=\u001b[0m\u001b[0;32mNone\u001b[0m\u001b[0;34m,\u001b[0m \u001b[0mnames\u001b[0m\u001b[0;34m=\u001b[0m\u001b[0;32mTrue\u001b[0m\u001b[0;34m,\u001b[0m \u001b[0mskip_header\u001b[0m\u001b[0;34m=\u001b[0m\u001b[0;36m3\u001b[0m\u001b[0;34m)\u001b[0m \u001b[0;31m# Stores the file below the 3rd line\u001b[0m\u001b[0;34m\u001b[0m\u001b[0;34m\u001b[0m\u001b[0m\n\u001b[0m\u001b[1;32m     11\u001b[0m     \u001b[0mindex\u001b[0m \u001b[0;34m=\u001b[0m \u001b[0mnp\u001b[0m\u001b[0;34m.\u001b[0m\u001b[0mwhere\u001b[0m\u001b[0;34m(\u001b[0m\u001b[0mdata\u001b[0m\u001b[0;34m[\u001b[0m\u001b[0;34m'type'\u001b[0m \u001b[0;34m==\u001b[0m \u001b[0mptype\u001b[0m\u001b[0;34m]\u001b[0m\u001b[0;34m)\u001b[0m \u001b[0;31m# Filters the data by particle type\u001b[0m\u001b[0;34m\u001b[0m\u001b[0;34m\u001b[0m\u001b[0m\n\u001b[1;32m     12\u001b[0m     \u001b[0mMass\u001b[0m \u001b[0;34m=\u001b[0m \u001b[0mdata\u001b[0m\u001b[0;34m[\u001b[0m\u001b[0;34m'm'\u001b[0m\u001b[0;34m]\u001b[0m\u001b[0;34m[\u001b[0m\u001b[0mindex\u001b[0m\u001b[0;34m]\u001b[0m \u001b[0;31m# Creates a new lists of masses\u001b[0m\u001b[0;34m\u001b[0m\u001b[0;34m\u001b[0m\u001b[0m\n",
      "\u001b[0;32m~/anaconda3/lib/python3.7/site-packages/numpy/lib/npyio.py\u001b[0m in \u001b[0;36mgenfromtxt\u001b[0;34m(fname, dtype, comments, delimiter, skip_header, skip_footer, converters, missing_values, filling_values, usecols, names, excludelist, deletechars, replace_space, autostrip, case_sensitive, defaultfmt, unpack, usemask, loose, invalid_raise, max_rows, encoding)\u001b[0m\n\u001b[1;32m   1757\u001b[0m             \u001b[0mfname\u001b[0m \u001b[0;34m=\u001b[0m \u001b[0mos_fspath\u001b[0m\u001b[0;34m(\u001b[0m\u001b[0mfname\u001b[0m\u001b[0;34m)\u001b[0m\u001b[0;34m\u001b[0m\u001b[0;34m\u001b[0m\u001b[0m\n\u001b[1;32m   1758\u001b[0m         \u001b[0;32mif\u001b[0m \u001b[0misinstance\u001b[0m\u001b[0;34m(\u001b[0m\u001b[0mfname\u001b[0m\u001b[0;34m,\u001b[0m \u001b[0mbasestring\u001b[0m\u001b[0;34m)\u001b[0m\u001b[0;34m:\u001b[0m\u001b[0;34m\u001b[0m\u001b[0;34m\u001b[0m\u001b[0m\n\u001b[0;32m-> 1759\u001b[0;31m             \u001b[0mfid\u001b[0m \u001b[0;34m=\u001b[0m \u001b[0mnp\u001b[0m\u001b[0;34m.\u001b[0m\u001b[0mlib\u001b[0m\u001b[0;34m.\u001b[0m\u001b[0m_datasource\u001b[0m\u001b[0;34m.\u001b[0m\u001b[0mopen\u001b[0m\u001b[0;34m(\u001b[0m\u001b[0mfname\u001b[0m\u001b[0;34m,\u001b[0m \u001b[0;34m'rt'\u001b[0m\u001b[0;34m,\u001b[0m \u001b[0mencoding\u001b[0m\u001b[0;34m=\u001b[0m\u001b[0mencoding\u001b[0m\u001b[0;34m)\u001b[0m\u001b[0;34m\u001b[0m\u001b[0;34m\u001b[0m\u001b[0m\n\u001b[0m\u001b[1;32m   1760\u001b[0m             \u001b[0mfid_ctx\u001b[0m \u001b[0;34m=\u001b[0m \u001b[0mcontextlib\u001b[0m\u001b[0;34m.\u001b[0m\u001b[0mclosing\u001b[0m\u001b[0;34m(\u001b[0m\u001b[0mfid\u001b[0m\u001b[0;34m)\u001b[0m\u001b[0;34m\u001b[0m\u001b[0;34m\u001b[0m\u001b[0m\n\u001b[1;32m   1761\u001b[0m         \u001b[0;32melse\u001b[0m\u001b[0;34m:\u001b[0m\u001b[0;34m\u001b[0m\u001b[0;34m\u001b[0m\u001b[0m\n",
      "\u001b[0;32m~/anaconda3/lib/python3.7/site-packages/numpy/lib/_datasource.py\u001b[0m in \u001b[0;36mopen\u001b[0;34m(path, mode, destpath, encoding, newline)\u001b[0m\n\u001b[1;32m    267\u001b[0m \u001b[0;34m\u001b[0m\u001b[0m\n\u001b[1;32m    268\u001b[0m     \u001b[0mds\u001b[0m \u001b[0;34m=\u001b[0m \u001b[0mDataSource\u001b[0m\u001b[0;34m(\u001b[0m\u001b[0mdestpath\u001b[0m\u001b[0;34m)\u001b[0m\u001b[0;34m\u001b[0m\u001b[0;34m\u001b[0m\u001b[0m\n\u001b[0;32m--> 269\u001b[0;31m     \u001b[0;32mreturn\u001b[0m \u001b[0mds\u001b[0m\u001b[0;34m.\u001b[0m\u001b[0mopen\u001b[0m\u001b[0;34m(\u001b[0m\u001b[0mpath\u001b[0m\u001b[0;34m,\u001b[0m \u001b[0mmode\u001b[0m\u001b[0;34m,\u001b[0m \u001b[0mencoding\u001b[0m\u001b[0;34m=\u001b[0m\u001b[0mencoding\u001b[0m\u001b[0;34m,\u001b[0m \u001b[0mnewline\u001b[0m\u001b[0;34m=\u001b[0m\u001b[0mnewline\u001b[0m\u001b[0;34m)\u001b[0m\u001b[0;34m\u001b[0m\u001b[0;34m\u001b[0m\u001b[0m\n\u001b[0m\u001b[1;32m    270\u001b[0m \u001b[0;34m\u001b[0m\u001b[0m\n\u001b[1;32m    271\u001b[0m \u001b[0;34m\u001b[0m\u001b[0m\n",
      "\u001b[0;32m~/anaconda3/lib/python3.7/site-packages/numpy/lib/_datasource.py\u001b[0m in \u001b[0;36mopen\u001b[0;34m(self, path, mode, encoding, newline)\u001b[0m\n\u001b[1;32m    621\u001b[0m                                       encoding=encoding, newline=newline)\n\u001b[1;32m    622\u001b[0m         \u001b[0;32melse\u001b[0m\u001b[0;34m:\u001b[0m\u001b[0;34m\u001b[0m\u001b[0;34m\u001b[0m\u001b[0m\n\u001b[0;32m--> 623\u001b[0;31m             \u001b[0;32mraise\u001b[0m \u001b[0mIOError\u001b[0m\u001b[0;34m(\u001b[0m\u001b[0;34m\"%s not found.\"\u001b[0m \u001b[0;34m%\u001b[0m \u001b[0mpath\u001b[0m\u001b[0;34m)\u001b[0m\u001b[0;34m\u001b[0m\u001b[0;34m\u001b[0m\u001b[0m\n\u001b[0m\u001b[1;32m    624\u001b[0m \u001b[0;34m\u001b[0m\u001b[0m\n\u001b[1;32m    625\u001b[0m \u001b[0;34m\u001b[0m\u001b[0m\n",
      "\u001b[0;31mOSError\u001b[0m: 400B_Lewis/M31_000.txt not found."
     ]
    }
   ],
   "source": [
    "# Calculates the masses of the M31 galaxy components and the baryon fraction\n",
    "M31halo = ComponentMass('M31_000.txt', 1) # The M31 dark matter mass\n",
    "M31disk = ComponentMass('M31_000.txt', 2) # The M31 disk mass\n",
    "M31bulge = ComponentMass('M31_000.txt', 3) # The M31 bulge mass\n",
    "M31stellar = np.around(M31disk + M31bluge, 3) # The M31 stellar mass\n",
    "M31total = np.around(M31stellar + M31bulge, 3) # The M31 total mass\n",
    "M31fbar = np.around(M31stellar/M31total, 3) # The M31 baryon fraction"
   ]
  },
  {
   "cell_type": "code",
   "execution_count": null,
   "metadata": {},
   "outputs": [],
   "source": [
    "# Calculates the masses of the M33 galaxy components and the baryon fraction\n",
    "M33halo = ComponentMass('M33_000.txt', 1) # The M31 dark matter mass\n",
    "M33disk = ComponentMass('M33_000.txt', 2) # The M33 disk mass\n",
    "M33bulge = 0 # M33 does not posess a bulge, so the bulge mass is 0\n",
    "M33stellar = np.around(M33disk + M33bluge, 3) # The M31 stellar mass\n",
    "M33total = np.around(M33stellar + M33bulge, 3) # The M33 total mass\n",
    "M33fbar = np.around(M33stellar/M33total, 3) # The M33 baryon fraction"
   ]
  },
  {
   "cell_type": "code",
   "execution_count": null,
   "metadata": {},
   "outputs": [],
   "source": [
    "# Calculates the masses of the Local Group and the baryon fraction\n",
    "LGtotal = MWtotal + M31total + M33total # The Local Group total mass\n",
    "LGstellar = MWstellar + M31stellar + M33stellar # The Local Group stellar mass\n",
    "LGfbar = np.around(LGstellar/LGtotal, 3) # The Local Group baryon fraction"
   ]
  },
  {
   "cell_type": "code",
   "execution_count": null,
   "metadata": {},
   "outputs": [],
   "source": [
    "# Table maker\n",
    "Halo = np.array([MWhalo, M31halo, M33halo, 0])\n",
    "Disk = np.array([MWdisk, M31disk, M33disk, 0])\n",
    "Bulge = np.array([MWbulge, M31bulge, M33bulge, 0])\n",
    "Total = np.array([MWtotal, M31total, M33total, LGtotal])\n",
    "Fbar = np.array([MWfbar, M31fbar, M33fbar, LGfbar])\n",
    "    \n",
    "GalaxyName = ['Milky Way', 'M31', 'M33', 'Local Group']\n",
    "ColName = ('Galaxy Name', 'Halo Mass (10^12 Msun)', 'Disk Mass (10^12 Msun)', 'Bulge Mass (10^12 Msun)', \n",
    "                'Total Mass (10^12 Msun)', 'Baryon Fraction')\n",
    "Table = [GalaxyName, Halo, Disk, Bulge, Total, Fbar]"
   ]
  },
  {
   "cell_type": "code",
   "execution_count": null,
   "metadata": {},
   "outputs": [],
   "source": [
    "fig, ax = plt.subplots()\n",
    "fig.patch.set_visible(False)\n",
    "ax.axis('off')\n",
    "ax.axis('tight')\n",
    "\n",
    "DF = pd.DataFrame(Table, columns=ColName)\n",
    "ax.table(cellText=df.values, colLabels=df.columns, loc='center')\n",
    "\n",
    "fig.tight_layout()\n",
    "\n",
    "plt.show()"
   ]
  },
  {
   "cell_type": "code",
   "execution_count": null,
   "metadata": {},
   "outputs": [],
   "source": [
    "# Ratios to answer questions on Homework3\n",
    "MWvsM31total = MWtotal/M31total # Ratio of total masses for Milky Way vs M31\n",
    "MWvsM31stellar = MWstellar/M31stellar # Ratio of stellar masses for Milky Way vs M31\n",
    "MWvsM31halo = MWhalo/M31halo # Ratio of halo masses for Milky Way vs M31\n",
    "\n",
    "print(MWvsM31total) # Question 1\n",
    "print(MWvsM31stellar) # Question 2\n",
    "print(MWvsM31halo) # Question 3\n",
    "print(MWfbar, M31fbar, M33fbar) # Question 4"
   ]
  }
 ],
 "metadata": {
  "kernelspec": {
   "display_name": "Python 3",
   "language": "python",
   "name": "python3"
  },
  "language_info": {
   "codemirror_mode": {
    "name": "ipython",
    "version": 3
   },
   "file_extension": ".py",
   "mimetype": "text/x-python",
   "name": "python",
   "nbconvert_exporter": "python",
   "pygments_lexer": "ipython3",
   "version": "3.6.8"
  }
 },
 "nbformat": 4,
 "nbformat_minor": 2
}
