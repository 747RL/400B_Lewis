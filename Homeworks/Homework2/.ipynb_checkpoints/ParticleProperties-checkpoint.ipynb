{
 "cells": [
  {
   "cell_type": "code",
   "execution_count": null,
   "metadata": {},
   "outputs": [],
   "source": [
    "import numpy as np\n",
    "import astropy.units as u\n",
    "from ReadFile import Read"
   ]
  },
  {
   "cell_type": "code",
   "execution_count": null,
   "metadata": {},
   "outputs": [],
   "source": [
    "# A function that returns the magnitude of the velocity, the magnitude of the distance,\n",
    "# and the mass of a particluar particle of any given type\n",
    "\n",
    "def ParticleInfo(filename, ptype, pnum):\n",
    "    # Inputs:\n",
    "    # filename is the name of the file\n",
    "    # ptype is the particle type (1=Dark Matter, 2=Disk Stars, 3=Buldge Stars)\n",
    "    # pnum is the nth particle of a specified particle type\n",
    "    # Outputs:\n",
    "    # d is the magnitude of the distance of a specific particle (kpc)\n",
    "    # v is the magnitude of the velocity of a specific particle (km/s)\n",
    "    # m is tha mass of the particle (Msun)\n",
    "    \n",
    "    time, pnum, data = Read(filename)\n",
    "    index = np.where(data['type']==ptype) # Filter's the data by ptype\n",
    "    \n",
    "    xnew = data['x'][index] # Stores the x components of the distance\n",
    "    ynew = data['y'][index] # Stores the y components of the distance\n",
    "    znew = data['z'][index] # Stores the z components of the distance\n",
    "    draw = dmag = np.sqrt(xnew[pnum-1]**2 + ynew[pnum-1]**2 + znew[pnum-1]**2) # Magnitude of distance\n",
    "    d = np.around(draw,3)*u.kpc    # Round the distance to the nearest 3 decimal places\n",
    "    \n",
    "    vxnew = data['vx'][index] # Stores the x components of the velocity\n",
    "    vynew = data['vy'][index] # Stores the y components of the velocity\n",
    "    vznew = data['vz'][index] # Stores the z components of the velocity\n",
    "    vraw = np.sqrt(vxnew[pnum-1]**2 + vynew[pnum-1]**2 + vznew[pnum-1]**2) # Magnitude of velocity\n",
    "    v = np.around(vraw,3)*u.km/u.s # Round the velocity to the nearest 3 decimal places\n",
    "    \n",
    "    mnew = data['m'][index] # Stores the mass\n",
    "    m = np.around(mnew[pnum-1]*1e10, 3)*u.solMass  # Round the mass to the nearest 3 decimal places\n",
    "    \n",
    "    return d, v, m"
   ]
  },
  {
   "cell_type": "code",
   "execution_count": null,
   "metadata": {},
   "outputs": [],
   "source": [
    "filename = input(\"File Name:\")\n",
    "\n",
    "ptype = int(raw_input(\"Particle Number: \"))"
   ]
  }
 ],
 "metadata": {
  "kernelspec": {
   "display_name": "Python 3",
   "language": "python",
   "name": "python3"
  },
  "language_info": {
   "codemirror_mode": {
    "name": "ipython",
    "version": 3
   },
   "file_extension": ".py",
   "mimetype": "text/x-python",
   "name": "python",
   "nbconvert_exporter": "python",
   "pygments_lexer": "ipython3",
   "version": "3.6.8"
  }
 },
 "nbformat": 4,
 "nbformat_minor": 2
}
