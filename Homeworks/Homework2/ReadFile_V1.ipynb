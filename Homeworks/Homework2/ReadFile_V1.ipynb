{
 "cells": [
  {
   "cell_type": "code",
   "execution_count": null,
   "metadata": {},
   "outputs": [],
   "source": [
    "import numpy as np\n",
    "import astropy.units as u"
   ]
  },
  {
   "cell_type": "code",
   "execution_count": null,
   "metadata": {},
   "outputs": [],
   "source": [
    "# Function that reads in data from filename and returns the time, particle number, and a data array\n",
    "def Read(filename):             \n",
    "    # Inputs:\n",
    "    # filename is the name of the file that will be read\n",
    "    # Outputs:\n",
    "    # time is the time represented in the simulation\n",
    "    # pnum is the nth particle of a given particle type\n",
    "    # data is a 2-D array containing type, mass, position, and velocity for each particle\n",
    "    \n",
    "    file = open(filename, 'r')  # Opens the file\n",
    "    \n",
    "    line1 = file.readline()     # Reads in first line\n",
    "    label, value = line1.split()\n",
    "    time = float(value)*u.Myr   # Stores the time with units Myr\n",
    "    \n",
    "    line2 = file.readline()     # Reads in second line\n",
    "    label, value = line2.split()\n",
    "    pnum = int(value)         # Stores the number of particles\n",
    "    \n",
    "    file.close()                # Closes file\n",
    "    \n",
    "    data = np.genfromtxt(filename,dtype=None,names=True,skip_header=3) #stores the remiander of the file\n",
    "    \n",
    "    return time, pnum, data     # returns the time, particle number and data array"
   ]
  }
 ],
 "metadata": {
  "kernelspec": {
   "display_name": "Python 3",
   "language": "python",
   "name": "python3"
  },
  "language_info": {
   "codemirror_mode": {
    "name": "ipython",
    "version": 3
   },
   "file_extension": ".py",
   "mimetype": "text/x-python",
   "name": "python",
   "nbconvert_exporter": "python",
   "pygments_lexer": "ipython3",
   "version": "3.6.8"
  }
 },
 "nbformat": 4,
 "nbformat_minor": 2
}
