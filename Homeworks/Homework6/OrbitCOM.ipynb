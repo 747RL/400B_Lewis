{
 "cells": [
  {
   "cell_type": "code",
   "execution_count": null,
   "metadata": {},
   "outputs": [],
   "source": [
    "# OrbitCOM, using Template by G. Besla & R. Li\n",
    "# A function that calculates the orbits of particles up to snapshot 800 (~12 Gyr)\n",
    "# Ryan Lewis\n",
    "# 3/6/2020"
   ]
  },
  {
   "cell_type": "code",
   "execution_count": null,
   "metadata": {},
   "outputs": [],
   "source": [
    "import numpy as np\n",
    "import astropy.units as u\n",
    "from astropy.constants import G\n",
    "\n",
    "# import plotting modules\n",
    "import matplotlib.pyplot as plt\n",
    "import matplotlib\n",
    "%matplotlib inline\n",
    "\n",
    "# my modules\n",
    "from ReadFile import Read\n",
    "# Step 1: modify CenterOfMass so that COM_P now takes a parameter specifying \n",
    "# by how much to decrease RMAX instead of a factor of 2\n",
    "from CenterOfMass2 import CenterOfMass"
   ]
  },
  {
   "cell_type": "code",
   "execution_count": null,
   "metadata": {},
   "outputs": [],
   "source": [
    "# A function that computes the time and COM position and velocity vectors of a given galaxy\n",
    "# in each snapshot and saves that output into a file\n",
    "def OrbitCOM(Galaxy, Start, End, n):\n",
    "    # Input:\n",
    "        # Galaxy - the name of the galaxy (e.g. MW for Milky Way)\n",
    "        # Start - the number of the first snapshot to be read in\n",
    "        # End - the number of the last snapshot to be read in\n",
    "        # n - an integer indicating the intervals over which you will return the COM\n",
    "    # Output:\n",
    "        # a file with computed time and COM position and velocity vectors of a given galaxy\n",
    "    \n",
    "    fileout = \"Orbit_\"+ galaxy + \".txt\" # compose the filename for output\n",
    "    \n",
    "    # Set tolerance and VolDec for calculating COM_P in CenterOfMass\n",
    "    # for M33 that is stripped more, use different values for VolDec\n",
    "    delta = 0.1\n",
    "    \n",
    "    if galaxy == \"M33\":\n",
    "        VolDec = 4.0\n",
    "    else:\n",
    "        VolDec = 2.0\n",
    "    \n",
    "    # Generate the snapshot id sequence \n",
    "    # It is always a good idea to also check if the input is eligible (not required)\n",
    "    snap_ids = np.arange(start, end, n)\n",
    "    \n",
    "    if len(snap_ids) == 0: # Check if the input is eligible - if the array is empty\n",
    "        print(\"Array is ineligible\")\n",
    "        return\n",
    "    \n",
    "    # initialize the array for orbital info: t, x, y, z, vx, vy, vz of COM\n",
    "    orbit = np.zeros(len(snap_ids), 7)\n",
    "    \n",
    "    # a for loop \n",
    "    for i, snap_id in enumerate(snap_ids): # loop over files\n",
    "        \n",
    "        # compose the data filename (be careful about the folder)\n",
    "        ilbl = '000' + str(Snap) # Add a string of the filenumber to the value \"000\"\n",
    "        ilbl = ilbl[-3:] # remove all but the last 3 digits\n",
    "        filename = \"%s_\"%(Galaxy) + ilbl + \".txt\"\n",
    "        \n",
    "        # Initialize an instance of CenterOfMass class, using disk particles (2)\n",
    "        COM = CenterOfMass(filename, 2)\n",
    "        \n",
    "        # Store the COM pos and vel. Remember that now COM_P required VolDec\n",
    "        COMP = COM.COM_P(delta, VolDec)\n",
    "        COMV = COM.COM_V(COMP[0], COMP[1], COMP[2])\n",
    "    \n",
    "        # store the time, pos, vel in ith element of the orbit array,  without units (.value) \n",
    "        # note that you can store \n",
    "        # a[i] = var1, *tuple(array1)\n",
    "        orbit[i] = [snap_ids, COMP[0], COMP[1], COMP[2], COMV[0], COMV[1], COMV[2]]\n",
    "        \n",
    "        # print snap_id to see the progress\n",
    "        print(snap_ids)\n",
    "        \n",
    "    # write the data to a file\n",
    "    # we do this because we don't want to have to repeat this process \n",
    "    # this code should only have to be called once per galaxy.\n",
    "    np.savetxt(fileout, orbit, fmt = \"%11.3f\"*7, comments='#',\n",
    "               header=\"{:>10s}{:>11s}{:>11s}{:>11s}{:>11s}{:>11s}{:>11s}\"\\\n",
    "                      .format('t', 'x', 'y', 'z', 'vx', 'vy', 'vz'))"
   ]
  },
  {
   "cell_type": "code",
   "execution_count": null,
   "metadata": {},
   "outputs": [],
   "source": [
    "# Recover the orbits and generate the COM files for each galaxy\n",
    "# read in 800 snapshots in intervals of n=5\n",
    "# Note: This might take a little while - test your code with a smaller number of snapshots first!\n",
    "MW = OrbitCOM(\"MW\", 0, 801, 5)\n",
    "M31 = OrbitCOM(\"M31\", 0, 801, 5)\n",
    "M33 = OrbitCOM(\"M33\", 0, 801, 5)"
   ]
  },
  {
   "cell_type": "code",
   "execution_count": null,
   "metadata": {},
   "outputs": [],
   "source": [
    "# Read in the data files for the orbits of each galaxy that you just created\n",
    "# headers:  t, x, y, z, vx, vy, vz\n",
    "# using np.genfromtxt\n",
    "MWData = np.genfromtxt(\"Orbit_MW.txt\")\n",
    "M31Data = np.genfromtxt(\"Orbit_M31.txt\")\n",
    "M33Data = np.genfromtxt(\"Orbit_M33.txt\")"
   ]
  },
  {
   "cell_type": "code",
   "execution_count": null,
   "metadata": {},
   "outputs": [],
   "source": [
    "# function to compute the magnitude of the difference between two vectors \n",
    "# You can use this function to return both the relative position and relative velocity for two \n",
    "# galaxies over the entire orbit\n",
    "def MagDiff(v1, v2):\n",
    "    # Input:\n",
    "        # v1 - arbitary 3D vector\n",
    "        # v2 - arbitrary vector of same dimension as v1\n",
    "    # Output:\n",
    "        # vsub - the magntiude of the difference between v1 and v2\n",
    "        \n",
    "    vsub = np.sqrt((v1[0]-v2[0])**2 + (v1[1]-v2[1])**2 + (v1[2]-v2[2])**2)\n",
    "    \n",
    "    return vsub"
   ]
  },
  {
   "cell_type": "code",
   "execution_count": null,
   "metadata": {},
   "outputs": [],
   "source": [
    "# Determine the magnitude of the relative position and velocities\n",
    "\n",
    "# of MW and M31\n",
    "MW_M31_Diff = MagDiff(MWData, M31Data)\n",
    "MWM31P = (MW_M31_Diff[:, 1], MW_M31_Diff[:, 2], MW_M31_Diff[:, 3])\n",
    "MWM31V = (MW_M31_Diff[:, 4], MW_M31_Diff[:, 5], MW_M31_Diff[:, 6])\n",
    "\n",
    "# of M33 and M31\n",
    "M33_M31_Diff = MagDiff(M33Data, M31Data)\n",
    "M33M31P = (M33_M31_Diff[:, 1], M33_M31_Diff[:, 2], M33_M31_Diff[:, 3])\n",
    "M33M31V = (M33_M31_Diff[:, 4], M33_M31_Diff[:, 5], M33_M31_Diff[:, 6])\n"
   ]
  },
  {
   "cell_type": "code",
   "execution_count": null,
   "metadata": {},
   "outputs": [],
   "source": [
    "# Plot the Orbit of the galaxies\n",
    "\n",
    "fig = plt.figure(figsize=(10,10))\n",
    "ax = plt.subplot(111)\n",
    "\n",
    "plt.plot(MWData['t'], MWM31P, color='indianred', linewidth=4, label='M31 Orbit Around MW')\n",
    "plt.plot(M31Data['t'], M33M31P, ':', color='mediumaquamarine', linewidth=4, label='M33 Orbit Around M31')\n",
    "\n",
    "plt.xlabel('Time (Gyr)', fontsize=22)\n",
    "plt.ylabel('Separation (kpc)', fontsize=22)\n",
    "\n",
    "plt.legend(loc='upper right')\n",
    "plt.show()"
   ]
  },
  {
   "cell_type": "code",
   "execution_count": null,
   "metadata": {},
   "outputs": [],
   "source": [
    "# Plot the orbital velocities of the galaxies\n",
    "fig = plt.figure(figsize=(10,10))\n",
    "ax = plt.subplot(111)\n",
    "\n",
    "plt.plot(MWData['t'], MWM31P, color='indianred', linewidth=4, label='M31 Orbit Around MW')\n",
    "plt.plot(M31Data['t'], M33M31P, '--', color='mediumaquamarine', linewidth=4, label='M33 Orbit Around M31')\n",
    "\n",
    "plt.xlabel('Time (Gyr)', fontsize=22)\n",
    "plt.ylabel('Separation (kpc)', fontsize=22)\n",
    "\n",
    "plt.legend(loc='upper right')\n",
    "plt.show()"
   ]
  },
  {
   "cell_type": "code",
   "execution_count": null,
   "metadata": {},
   "outputs": [],
   "source": [
    "# Questions\n",
    "\n",
    "# 1) How many close encounters will the MW and M31 experience in the future?\n",
    "    # \n",
    "    \n",
    "# 2) How is the time evolution of the separation and relative velocity related?\n",
    "    # \n",
    "\n",
    "# 3) When do M31 and the MW merge? (you might need to zoom in on the plot - try a log y axis). \n",
    "#    What happens to M33’s orbit when they merge?\n",
    "\n",
    "# BONUS: What is roughly the decay rate of M33’s orbit after 6 Gyr (ratio of the difference \n",
    "#        between two successive apocenters and the orbital period; you don’t need to be precise). \n",
    "#        If this rate is constant, how long will it take M33 to merge with the combined MW+M31 remnant if it \n",
    "#        is at a distance of 75 kpc?"
   ]
  }
 ],
 "metadata": {
  "kernelspec": {
   "display_name": "Python 3",
   "language": "python",
   "name": "python3"
  },
  "language_info": {
   "codemirror_mode": {
    "name": "ipython",
    "version": 3
   },
   "file_extension": ".py",
   "mimetype": "text/x-python",
   "name": "python",
   "nbconvert_exporter": "python",
   "pygments_lexer": "ipython3",
   "version": "3.6.8"
  }
 },
 "nbformat": 4,
 "nbformat_minor": 2
}
